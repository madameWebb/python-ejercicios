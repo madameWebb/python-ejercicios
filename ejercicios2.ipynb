{
 "cells": [
  {
   "cell_type": "markdown",
   "metadata": {},
   "source": [
    "# Ejercicios Python 2"
   ]
  },
  {
   "cell_type": "markdown",
   "metadata": {},
   "source": [
    "Resuelve cada ejercicio en su celda y añade las pruebas necesarias para comprobar que funciona correctamente. Indica en un comentario la dificultad encontrada (del 1 al 5)."
   ]
  },
  {
   "cell_type": "code",
   "execution_count": 6,
   "metadata": {},
   "outputs": [
    {
     "name": "stdout",
     "output_type": "stream",
     "text": [
      "[1, 2, 3, 4, 5]\n",
      "['gato', 'pez', 'perro', 'gallina']\n"
     ]
    }
   ],
   "source": [
    "# Función que recibe una lista y devuelve otra eliminando sus duplicados (función y pruebas)\n",
    "def eliminarDuplicados(lista):\n",
    "    auxLista = lista.copy()\n",
    "    for i in range(len(lista)):\n",
    "        if lista.count(lista[i]) > 1:\n",
    "            for j in range((len(auxLista) - 1), 0, -1):\n",
    "                if auxLista.count(lista[i]) <= 1:\n",
    "                    break\n",
    "                if auxLista[j] == lista[i]:\n",
    "                    auxLista.pop(j)\n",
    "    return auxLista\n",
    "\n",
    "\n",
    "print(eliminarDuplicados([1,2,3,4,5,2,3,4,5,3,4,5,4,5,5]))\n",
    "print(eliminarDuplicados(['gato', 'pez', 'perro', 'pez', 'perro', 'gallina', 'perro']))"
   ]
  },
  {
   "cell_type": "code",
   "execution_count": 2,
   "metadata": {},
   "outputs": [],
   "source": [
    "# Función que recibe una matriz (una lista de listas) y devuelve otra eliminando sus duplicados\n",
    "# Sin elementos repetidos en las filas\n",
    "def eliminarDuplicadosMatriz1(matriz):\n",
    "    aux = []\n",
    "    for fila in matriz:\n",
    "        aux.append(set(fila))\n",
    "    return aux\n",
    "\n",
    "# Sin elementos repetidos en toda la matriz\n",
    "def eliminarDuplicadosMatriz2(matriz):\n",
    "    aux = []\n",
    "    for fila in matriz:\n",
    "        for elemento in fila:\n",
    "            if elemento not in aux:\n",
    "                aux.append(elemento)\n",
    "    return aux\n",
    "\n",
    "    \n",
    "print(eliminarDuplicadosMatriz1([[1,2,3],[4,5,2],[3,4,5],[3,4,5],[4,5,5]]))\n",
    "print(eliminarDuplicadosMatriz1([['gato', 'pez', 'perro'], ['pez', 'perro', 'gallina'], ['perro', 'gaviota', 'gato']])) \n",
    "\n",
    "print(eliminarDuplicadosMatriz2([[1,2,3],[4,5,2],[3,4,5],[3,4,5],[4,5,5]]))\n",
    "print(eliminarDuplicadosMatriz2([['gato', 'pez', 'perro'], ['pez', 'perro', 'gallina'], ['perro', 'gaviota', 'gato']])) "
   ]
  },
  {
   "cell_type": "code",
   "execution_count": 3,
   "metadata": {},
   "outputs": [],
   "source": [
    "# Función que recibe una lista y devuelve un diccionario con el número de veces que aparece cada elemento \n",
    "# (las claves del diccionario deben ser los elementos de la lista y los valores deben ser el número de veces que aparece \n",
    "# dicho elemento en la lista)\n",
    "\n",
    "def contarElementos(lista):\n",
    "    diccionario = {}\n",
    "    for elemento in lista:\n",
    "        if elemento not in diccionario:\n",
    "            diccionario.update({elemento:lista.count(elemento)})\n",
    "    return diccionario\n",
    "\n",
    "print(contarElementos([1,2,3,4,5,2,3,4,5,3,4,5,4,5,5]))\n",
    "print(contarElementos(['gato', 'pez', 'perro', 'pez', 'perro', 'gallina', 'perro']))"
   ]
  },
  {
   "cell_type": "code",
   "execution_count": 2,
   "metadata": {},
   "outputs": [
    {
     "name": "stdout",
     "output_type": "stream",
     "text": [
      "[[1, 0, 0], [0, 1, 0], [0, 0, 1]]\n"
     ]
    },
    {
     "data": {
      "text/plain": [
       "'\\nLa sentencia assert evalúa una expresión booleana. Si es True, no hace nada. Si es False, lanza una excepción de tipo AssertionError.\\nSi tu función es correcta, al ejecutar no debería mostrar nada. Si falla, mostrará un AssertionError.\\nSe utiliza para testing. \\nhttps://ellibrodepython.com/assert-python\\n'"
      ]
     },
     "execution_count": 2,
     "metadata": {},
     "output_type": "execute_result"
    }
   ],
   "source": [
    "# Función que recibe dos matrices cuadradas (NxN) y devuelve una tercera matriz que contiene el valor 1 en las posiciones en que el valor de A y B coinciden y 0 en caso contrario.\n",
    "def valores_iguales_matriz(matriz1, matriz2):\n",
    "    matriz = [[0 for j in range(len(matriz1))] for i in range(len(matriz1))]\n",
    "    for i in range (len(matriz1)):\n",
    "        for j in range (len(matriz1[i])):\n",
    "            if matriz1[i][j] == matriz2[i][j]:\n",
    "                matriz[i][j] = 1\n",
    "            else:\n",
    "                matriz[i][j] = 0\n",
    "    return matriz\n",
    "\n",
    "# Tests\n",
    "matriz1 = [[1, 2, 3], [4, 5, 6], [7, 8, 9]] # Matriz 3x3\n",
    "matriz2 = [[1, 5, 6], [7, 5, 9], [1, 2, 9]] # Matriz 3x3\n",
    "print(valores_iguales_matriz(matriz1, matriz2)) # Debería mostrar una matriz identidad\n",
    "assert valores_iguales_matriz(matriz1, matriz2) == [[1, 0, 0], [0, 1, 0], [0, 0, 1]]\n",
    "'''\n",
    "La sentencia assert evalúa una expresión booleana. Si es True, no hace nada. Si es False, lanza una excepción de tipo AssertionError.\n",
    "Si tu función es correcta, al ejecutar no debería mostrar nada. Si falla, mostrará un AssertionError.\n",
    "Se utiliza para testing. \n",
    "https://ellibrodepython.com/assert-python\n",
    "'''\n"
   ]
  },
  {
   "cell_type": "code",
   "execution_count": 2,
   "metadata": {},
   "outputs": [
    {
     "name": "stdout",
     "output_type": "stream",
     "text": [
      "[(4, 0)]\n",
      "[(0, 4)]\n",
      "[(1, 0), (1, 2), (2, 2), (3, 2), (4, 0), (4, 2)]\n",
      "[(0, 1), (0, 4), (2, 1), (2, 2), (2, 3), (2, 4)]\n"
     ]
    }
   ],
   "source": [
    "# Función que recibe una matriz y busca sus puntos de silla (mínimo de su fila y máximo de su columna o viceversa). \n",
    "# Debe devolver una lista de tuplas con las coordenadas de los puntos de silla.\n",
    "\n",
    "def hallarPSilla(matriz):\n",
    "    puntosSilla = []\n",
    "    # Se halla la matriz trapuesta para comparar el elemento entre los elementos de filas y columnas,\n",
    "    # ya que las filas de una matriz se corresponden con las columnas de su traspuesta\n",
    "    traspuesta =  [[None] * len(matriz) for i in range(len(matriz[0]))]\n",
    "    for fila in range(len(matriz)):\n",
    "        for columna in  range(len(matriz[fila])):\n",
    "            traspuesta[columna][fila] = matriz[fila][columna]\n",
    "    # Se comprueba la condición para cada elemento\n",
    "    for i in range(len(matriz)):\n",
    "        for j in range(len(matriz[i])):\n",
    "            # Si el elemento en las coordenadas es menor o igual a los elementos de su fila\n",
    "            # y mayor o igual a los elementos de su columna, o viceversa, entonces es un \n",
    "            # punto silla y se agrega a la lista de tuplas\n",
    "            if (matriz[i][j] == min(matriz[i]) and matriz[i][j] == max(traspuesta[j])) or (\n",
    "                matriz[i][j] == max(matriz[i]) and matriz[i][j] == min(traspuesta[j])):\n",
    "                puntosSilla.append((i, j))\n",
    "\n",
    "    return puntosSilla\n",
    "\n",
    "print(hallarPSilla([[1,2,3],\n",
    "                    [4,5,2],\n",
    "                    [3,4,5],\n",
    "                    [3,4,5],\n",
    "                    [4,5,5]]))\n",
    "print(hallarPSilla([[1,4,3,3,4],\n",
    "                    [2,5,4,4,5],\n",
    "                    [3,2,5,5,5]]))\n",
    "print(hallarPSilla([[1,2,6],\n",
    "                    [4,5,5],\n",
    "                    [3,4,5],\n",
    "                    [3,4,5],\n",
    "                    [4,5,5]]))\n",
    "print(hallarPSilla([[1,4,3,3,4],\n",
    "                    [2,5,4,4,5],\n",
    "                    [6,5,5,5,5]]))\n",
    "\n"
   ]
  },
  {
   "cell_type": "markdown",
   "metadata": {},
   "source": [
    "## "
   ]
  },
  {
   "cell_type": "markdown",
   "metadata": {},
   "source": [
    "## "
   ]
  }
 ],
 "metadata": {
  "kernelspec": {
   "display_name": "base",
   "language": "python",
   "name": "python3"
  },
  "language_info": {
   "codemirror_mode": {
    "name": "ipython",
    "version": 3
   },
   "file_extension": ".py",
   "mimetype": "text/x-python",
   "name": "python",
   "nbconvert_exporter": "python",
   "pygments_lexer": "ipython3",
   "version": "3.10.2"
  }
 },
 "nbformat": 4,
 "nbformat_minor": 2
}
