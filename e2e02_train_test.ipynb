{
 "cells": [
  {
   "cell_type": "markdown",
   "metadata": {},
   "source": [
    "# Conjuntos de entrenamiento y de prueba"
   ]
  },
  {
   "cell_type": "markdown",
   "metadata": {},
   "source": [
    "Este notebook es una adaptación del [original de *Aurélien Gerón*](https://github.com/ageron/handson-ml3/blob/main/02_end_to_end_machine_learning_project.ipynb), de su libro: [Hands-On Machine Learning with Scikit-Learn, Keras, and TensorFlow, 3rd Edition. Aurélien Géron](https://www.oreilly.com/library/view/hands-on-machine-learning/9781098125967/)"
   ]
  },
  {
   "cell_type": "code",
   "execution_count": 2,
   "metadata": {},
   "outputs": [],
   "source": [
    "import pandas as pd\n",
    "housing = pd.read_csv(\"./data/housing.csv\")"
   ]
  },
  {
   "cell_type": "markdown",
   "metadata": {},
   "source": [
    "Normalmente, se separa una parte de los datos para usarlos como conjunto de prueba (***train set***), y el se entrena el modelo con el resto (***training set***). Esto es para evitar el **sobreajuste** o ***overfitting***, dado cuando el modelo se ajusta demasiado a los datos de entrenamiento, y no generaliza bien a datos nuevos. Si el error en el conjunto de entrenamiento es bajo y en el de prueba es alto, es que el modelo está sobreajustado.\n",
    "\n",
    "Es habitual usar un 20% de los datos para el conjunto de prueba, pero esto depende del tamaño del dataset. Cuanto más grande sea el dataset, menos datos necesitaremos para el conjunto de prueba.\n",
    "<!-- TODO: En el original fuerza la semilla del random para no tener resultados distintos en cada ejecución. No entiendo por qué eso es un problema -->"
   ]
  },
  {
   "cell_type": "markdown",
   "metadata": {},
   "source": [
    "## Muestreo aleatorio con NumPy"
   ]
  },
  {
   "cell_type": "code",
   "execution_count": 3,
   "metadata": {},
   "outputs": [],
   "source": [
    "import numpy as np\n",
    "\n",
    "def shuffle_and_split_data(data, test_ratio):\n",
    "    ''' Baraja los datos y los divide en train (entrenamiento) y test según el ratio especificado. \n",
    "    \n",
    "        Parameters\n",
    "        ----------\n",
    "        data: pandas.DataFrame\n",
    "            Dataframe containing the data you want to split\n",
    "        test_ratio: float\n",
    "            Proporción (entre 0 y 1) de datos que se utilizarán para test (el resto se utilizará para entrenamiento)\n",
    "    \n",
    "        Returns\n",
    "        -------\n",
    "        train_set: pandas.DataFrame\n",
    "            Dataframe con los datos de prueba\n",
    "        test_set: pandas.DataFrame\n",
    "            Dataframe con los datos de texst\n",
    "    '''\n",
    "    shuffled_indices = np.random.permutation(len(data)) # Generamos los índices de forma aleatoria\n",
    "    test_set_size = int(len(data) * test_ratio) # Calculamos el  número de muestras que irán al conjunto de test\n",
    "    test_indices = shuffled_indices[:test_set_size] # Seleccionamos los índices para el conjunto de test\n",
    "    train_indices = shuffled_indices[test_set_size:] # Seleccionamos los índices para el conjunto de entrenamiento\n",
    "    return data.iloc[train_indices], data.iloc[test_indices] # Devolvemos los conjuntos de train y test"
   ]
  },
  {
   "cell_type": "code",
   "execution_count": 4,
   "metadata": {},
   "outputs": [
    {
     "data": {
      "text/plain": [
       "(16512, 4128)"
      ]
     },
     "execution_count": 4,
     "metadata": {},
     "output_type": "execute_result"
    }
   ],
   "source": [
    "train_set, test_set = shuffle_and_split_data(housing, 0.2) # generamos los conjuntos de train y test (20% para test)\n",
    "len(train_set), len(test_set)"
   ]
  },
  {
   "cell_type": "markdown",
   "metadata": {},
   "source": [
    "## Muestreo aleatorio con scikit-learn"
   ]
  },
  {
   "cell_type": "markdown",
   "metadata": {},
   "source": [
    "Lo mismo se puede hacer directamente utilizando la función `train_test_split` de scikit-learn:"
   ]
  },
  {
   "cell_type": "code",
   "execution_count": 5,
   "metadata": {},
   "outputs": [
    {
     "data": {
      "text/plain": [
       "(16512, 4128)"
      ]
     },
     "execution_count": 5,
     "metadata": {},
     "output_type": "execute_result"
    }
   ],
   "source": [
    "from sklearn.model_selection import train_test_split\n",
    "train_set, test_set = train_test_split(housing, test_size=0.2)\n",
    "len(train_set), len(test_set)"
   ]
  },
  {
   "cell_type": "markdown",
   "metadata": {},
   "source": [
    "## Muestreo estratificado (*Stratified sampling*)"
   ]
  },
  {
   "cell_type": "markdown",
   "metadata": {},
   "source": [
    "La separación anterior se ha realizado aleatoriamente. Esto suele ser correcto con un *dataset* suficientemente grande, pero si no lo es, se corre el riesgo de introducir sesgos de **muestreo**, ya que podría ser que nuestro grupo de test, por ejemplo, no contenga suficientes ejempos en de una parte concreta de la distribución.\n",
    "\n",
    "Supongamos otro caso: en la realización de una encuesta sobre opiniones de la población de España, al no poder consultar a toda la población, se selecciona un **grupo muestral** de 1000 personas. Si solo se utiliza el azar, podríamos encontrarnos con que casi todos los encuestados fuesen hombres. Esto no sería un problema si podemos asumir que hombres y mujeres tienen opiniones homogéneas, pero si no es así, estaríamos sesgando nuestro estudio al considerar que las opiniones mayoriotarias entre los hombres son las mayoritarias entre el total de la población. En muchos casos será del mismo modo tener en cuenta aspectos como edad, renta, nivel educativo, localidad, etc.\n",
    "\n",
    "Esto se llama **muestreo sesgado** o ***sampling bias***. Para evitarlo, se puede realizar un **[muestreo estratificado](https://es.wikipedia.org/wiki/Muestreo_estratificado)** dividiendo el *dataset* en grupos llamados **estratos**, y asegurándose de tomar no solo un porcentaje de muestras del total, sino ese porcentaje de cada estrato.\n",
    "\n",
    "En el problema que estamos abordando, podemos esperar que el ingreso mediano sea una variable predictora de especial importancia (más adelante veremos que es el que mejor correla con la salida<!-- TODO: ¿no tendría más sentido juntar todo el EDA antes del testeo? -->). Dado que este atributo es numérico continuo, necesitaremos **discretizarlo** para crear un nuevo atributo de categoría de ingresos donde cada categoría represente un estrato. De ese modo podremos muestrear cada estrato, manteniendo proporcionales sus tamaños en los conjuntos de entrenamiento y prueba.\n",
    "\n",
    "Si volvemos a ver el histograma de `median_income`, vemos que la mayoría de los valores se encuentran entre 1.5 y 6, pero algunos llegan hasta 15. Es importante tener un número suficiente de instancias en cada estrato, por lo que no deberíamos tener demasiados estratos, y cada uno debería ser lo suficientemente grande."
   ]
  },
  {
   "cell_type": "code",
   "execution_count": 8,
   "metadata": {},
   "outputs": [
    {
     "data": {
      "text/plain": [
       "<Axes: >"
      ]
     },
     "execution_count": 8,
     "metadata": {},
     "output_type": "execute_result"
    },
    {
     "data": {
      "image/png": "[encoded data removed]",
      "text/plain": [
       "<Figure size 640x480 with 1 Axes>"
      ]
     },
     "metadata": {},
     "output_type": "display_data"
    }
   ],
   "source": [
    "housing[\"median_income\"].hist(bins=50)"
   ]
  },
  {
   "cell_type": "markdown",
   "metadata": {},
   "source": [
    "La función `pd.cut` de Pandas nos permite crear una nueva columna segmentando en categorías. En este caso, vamos a crear 5 categorías, separando en bloques de 1.5 (salvo el ultimo que agrupará toda la cola gruesa a la derecha), y vamos a usar la función `value_counts` para ver cuántos valores hay en cada categoría."
   ]
  },
  {
   "cell_type": "code",
   "execution_count": 9,
   "metadata": {},
   "outputs": [],
   "source": [
    "housing[\"income_cat\"] = pd.cut(housing[\"median_income\"],\n",
    "                               bins=[0., 1.5, 3.0, 4.5, 6., np.inf], # Secuencia de límites de los contenedores\n",
    "                               labels=[1, 2, 3, 4, 5])"
   ]
  },
  {
   "cell_type": "code",
   "execution_count": 10,
   "metadata": {},
   "outputs": [
    {
     "data": {
      "image/png": "[encoded data removed]",
      "text/plain": [
       "<Figure size 640x480 with 1 Axes>"
      ]
     },
     "metadata": {},
     "output_type": "display_data"
    }
   ],
   "source": [
    "import matplotlib.pyplot as plt\n",
    "\n",
    "housing[\"income_cat\"].value_counts().sort_index().plot.bar(rot=0, grid=True)\n",
    "plt.xlabel(\"Categoría de renta\")\n",
    "plt.ylabel(\"Número de registros\")\n",
    "plt.show()"
   ]
  },
  {
   "cell_type": "markdown",
   "metadata": {},
   "source": [
    "podemos volver a usar la función `train_test_split` de scikit-learn, pero esta vez con el parámetro `stratify` indicando la columna que queremos usar para estratificar el muestreo."
   ]
  },
  {
   "cell_type": "code",
   "execution_count": 12,
   "metadata": {},
   "outputs": [],
   "source": [
    "strat_train_set, strat_test_set = train_test_split(\n",
    "    housing, test_size=0.2, stratify=housing[\"income_cat\"])"
   ]
  },
  {
   "cell_type": "markdown",
   "metadata": {},
   "source": [
    "se observa que el conjunto de prueba generado usando muestreo estratificado una cantidad de muestras en cada estrato mucho más representativa de la población total, pese a ser aleatorio."
   ]
  },
  {
   "cell_type": "code",
   "execution_count": 13,
   "metadata": {},
   "outputs": [
    {
     "data": {
      "text/plain": [
       "income_cat\n",
       "3    0.350533\n",
       "2    0.318798\n",
       "4    0.176357\n",
       "5    0.114341\n",
       "1    0.039971\n",
       "Name: count, dtype: float64"
      ]
     },
     "execution_count": 13,
     "metadata": {},
     "output_type": "execute_result"
    }
   ],
   "source": [
    "strat_test_set[\"income_cat\"].value_counts() / len(strat_test_set)"
   ]
  },
  {
   "cell_type": "markdown",
   "metadata": {},
   "source": [
    "Ahora podemos mostrar un dataframe completo con los errores de muestreo aleatorio y estratificado, y ver que el error de muestreo estratificado es mucho menor."
   ]
  },
  {
   "cell_type": "code",
   "execution_count": 15,
   "metadata": {},
   "outputs": [
    {
     "data": {
      "text/html": [
       "<div>\n",
       "<style scoped>\n",
       "    .dataframe tbody tr th:only-of-type {\n",
       "        vertical-align: middle;\n",
       "    }\n",
       "\n",
       "    .dataframe tbody tr th {\n",
       "        vertical-align: top;\n",
       "    }\n",
       "\n",
       "    .dataframe thead th {\n",
       "        text-align: right;\n",
       "    }\n",
       "</style>\n",
       "<table border=\"1\" class=\"dataframe\">\n",
       "  <thead>\n",
       "    <tr style=\"text-align: right;\">\n",
       "      <th></th>\n",
       "      <th>Overall %</th>\n",
       "      <th>Stratified %</th>\n",
       "      <th>Random %</th>\n",
       "      <th>Strat. Error %</th>\n",
       "      <th>Rand. Error %</th>\n",
       "    </tr>\n",
       "    <tr>\n",
       "      <th>Income Category</th>\n",
       "      <th></th>\n",
       "      <th></th>\n",
       "      <th></th>\n",
       "      <th></th>\n",
       "      <th></th>\n",
       "    </tr>\n",
       "  </thead>\n",
       "  <tbody>\n",
       "    <tr>\n",
       "      <th>1</th>\n",
       "      <td>3.98</td>\n",
       "      <td>4.00</td>\n",
       "      <td>3.54</td>\n",
       "      <td>0.36</td>\n",
       "      <td>-11.19</td>\n",
       "    </tr>\n",
       "    <tr>\n",
       "      <th>2</th>\n",
       "      <td>31.88</td>\n",
       "      <td>31.88</td>\n",
       "      <td>31.86</td>\n",
       "      <td>-0.02</td>\n",
       "      <td>-0.09</td>\n",
       "    </tr>\n",
       "    <tr>\n",
       "      <th>3</th>\n",
       "      <td>35.06</td>\n",
       "      <td>35.05</td>\n",
       "      <td>34.98</td>\n",
       "      <td>-0.01</td>\n",
       "      <td>-0.22</td>\n",
       "    </tr>\n",
       "    <tr>\n",
       "      <th>4</th>\n",
       "      <td>17.63</td>\n",
       "      <td>17.64</td>\n",
       "      <td>18.75</td>\n",
       "      <td>0.03</td>\n",
       "      <td>6.35</td>\n",
       "    </tr>\n",
       "    <tr>\n",
       "      <th>5</th>\n",
       "      <td>11.44</td>\n",
       "      <td>11.43</td>\n",
       "      <td>10.88</td>\n",
       "      <td>-0.08</td>\n",
       "      <td>-4.95</td>\n",
       "    </tr>\n",
       "  </tbody>\n",
       "</table>\n",
       "</div>"
      ],
      "text/plain": [
       "                 Overall %  Stratified %  Random %  Strat. Error %  \\\n",
       "Income Category                                                      \n",
       "1                     3.98          4.00      3.54            0.36   \n",
       "2                    31.88         31.88     31.86           -0.02   \n",
       "3                    35.06         35.05     34.98           -0.01   \n",
       "4                    17.63         17.64     18.75            0.03   \n",
       "5                    11.44         11.43     10.88           -0.08   \n",
       "\n",
       "                 Rand. Error %  \n",
       "Income Category                 \n",
       "1                       -11.19  \n",
       "2                        -0.09  \n",
       "3                        -0.22  \n",
       "4                         6.35  \n",
       "5                        -4.95  "
      ]
     },
     "execution_count": 15,
     "metadata": {},
     "output_type": "execute_result"
    }
   ],
   "source": [
    "def income_cat_proportions(data):\n",
    "    return data[\"income_cat\"].value_counts() / len(data) # proporción de valores en cada income_cat\n",
    "\n",
    "train_set, test_set = train_test_split(housing, test_size=0.2) # reejeecutando esta celda podemos ver la variación en el split aleatorio\n",
    "\n",
    "compare_props = pd.DataFrame({\n",
    "    \"Overall %\": income_cat_proportions(housing), # proporción de valores en cada income_cat en el dataset original\n",
    "    \"Stratified %\": income_cat_proportions(strat_test_set), # proporción en el conjunto de test estratificado\n",
    "    \"Random %\": income_cat_proportions(test_set), # proporción en el conjunto de test generado aleatoriamente\n",
    "}).sort_index()\n",
    "compare_props.index.name = \"Income Category\"\n",
    "compare_props[\"Strat. Error %\"] = (compare_props[\"Stratified %\"] / compare_props[\"Overall %\"] - 1) # error del estratificado con respecto al original\n",
    "compare_props[\"Rand. Error %\"] = (compare_props[\"Random %\"] / compare_props[\"Overall %\"] - 1) # error del aleatorio con respecto al original\n",
    "(compare_props * 100).round(2) # convertimos todos los valores a porcentaje con dos decimales"
   ]
  },
  {
   "cell_type": "markdown",
   "metadata": {},
   "source": [
    "Como ya no necesitaremos la variable `income_cat`, podemos eliminarla de los dos conjuntos generados."
   ]
  },
  {
   "cell_type": "code",
   "execution_count": 16,
   "metadata": {},
   "outputs": [
    {
     "data": {
      "text/html": [
       "<div>\n",
       "<style scoped>\n",
       "    .dataframe tbody tr th:only-of-type {\n",
       "        vertical-align: middle;\n",
       "    }\n",
       "\n",
       "    .dataframe tbody tr th {\n",
       "        vertical-align: top;\n",
       "    }\n",
       "\n",
       "    .dataframe thead th {\n",
       "        text-align: right;\n",
       "    }\n",
       "</style>\n",
       "<table border=\"1\" class=\"dataframe\">\n",
       "  <thead>\n",
       "    <tr style=\"text-align: right;\">\n",
       "      <th></th>\n",
       "      <th>19504</th>\n",
       "      <th>1406</th>\n",
       "      <th>12615</th>\n",
       "      <th>8359</th>\n",
       "      <th>12255</th>\n",
       "    </tr>\n",
       "  </thead>\n",
       "  <tbody>\n",
       "    <tr>\n",
       "      <th>longitude</th>\n",
       "      <td>-121.02</td>\n",
       "      <td>-122.05</td>\n",
       "      <td>-121.51</td>\n",
       "      <td>-118.32</td>\n",
       "      <td>-117.02</td>\n",
       "    </tr>\n",
       "    <tr>\n",
       "      <th>latitude</th>\n",
       "      <td>37.65</td>\n",
       "      <td>37.95</td>\n",
       "      <td>38.5</td>\n",
       "      <td>33.97</td>\n",
       "      <td>33.76</td>\n",
       "    </tr>\n",
       "    <tr>\n",
       "      <th>housing_median_age</th>\n",
       "      <td>20.0</td>\n",
       "      <td>34.0</td>\n",
       "      <td>25.0</td>\n",
       "      <td>46.0</td>\n",
       "      <td>20.0</td>\n",
       "    </tr>\n",
       "    <tr>\n",
       "      <th>total_rooms</th>\n",
       "      <td>2973.0</td>\n",
       "      <td>1408.0</td>\n",
       "      <td>4719.0</td>\n",
       "      <td>1504.0</td>\n",
       "      <td>1317.0</td>\n",
       "    </tr>\n",
       "    <tr>\n",
       "      <th>total_bedrooms</th>\n",
       "      <td>620.0</td>\n",
       "      <td>277.0</td>\n",
       "      <td>745.0</td>\n",
       "      <td>270.0</td>\n",
       "      <td>203.0</td>\n",
       "    </tr>\n",
       "    <tr>\n",
       "      <th>population</th>\n",
       "      <td>1996.0</td>\n",
       "      <td>738.0</td>\n",
       "      <td>1857.0</td>\n",
       "      <td>814.0</td>\n",
       "      <td>453.0</td>\n",
       "    </tr>\n",
       "    <tr>\n",
       "      <th>households</th>\n",
       "      <td>570.0</td>\n",
       "      <td>269.0</td>\n",
       "      <td>739.0</td>\n",
       "      <td>306.0</td>\n",
       "      <td>158.0</td>\n",
       "    </tr>\n",
       "    <tr>\n",
       "      <th>median_income</th>\n",
       "      <td>3.0645</td>\n",
       "      <td>4.175</td>\n",
       "      <td>5.0371</td>\n",
       "      <td>4.3919</td>\n",
       "      <td>2.8393</td>\n",
       "    </tr>\n",
       "    <tr>\n",
       "      <th>median_house_value</th>\n",
       "      <td>106000.0</td>\n",
       "      <td>169400.0</td>\n",
       "      <td>180200.0</td>\n",
       "      <td>157100.0</td>\n",
       "      <td>120700.0</td>\n",
       "    </tr>\n",
       "    <tr>\n",
       "      <th>ocean_proximity</th>\n",
       "      <td>INLAND</td>\n",
       "      <td>NEAR BAY</td>\n",
       "      <td>INLAND</td>\n",
       "      <td>&lt;1H OCEAN</td>\n",
       "      <td>INLAND</td>\n",
       "    </tr>\n",
       "  </tbody>\n",
       "</table>\n",
       "</div>"
      ],
      "text/plain": [
       "                       19504     1406      12615      8359      12255\n",
       "longitude            -121.02   -122.05   -121.51    -118.32   -117.02\n",
       "latitude               37.65     37.95      38.5      33.97     33.76\n",
       "housing_median_age      20.0      34.0      25.0       46.0      20.0\n",
       "total_rooms           2973.0    1408.0    4719.0     1504.0    1317.0\n",
       "total_bedrooms         620.0     277.0     745.0      270.0     203.0\n",
       "population            1996.0     738.0    1857.0      814.0     453.0\n",
       "households             570.0     269.0     739.0      306.0     158.0\n",
       "median_income         3.0645     4.175    5.0371     4.3919    2.8393\n",
       "median_house_value  106000.0  169400.0  180200.0   157100.0  120700.0\n",
       "ocean_proximity       INLAND  NEAR BAY    INLAND  <1H OCEAN    INLAND"
      ]
     },
     "execution_count": 16,
     "metadata": {},
     "output_type": "execute_result"
    }
   ],
   "source": [
    "strat_train_set.drop(\"income_cat\", axis=1, inplace=True)\n",
    "strat_test_set.drop(\"income_cat\", axis=1, inplace=True)\n",
    "\n",
    "strat_train_set.head().T"
   ]
  }
 ],
 "metadata": {
  "kernelspec": {
   "display_name": "base",
   "language": "python",
   "name": "python3"
  },
  "language_info": {
   "codemirror_mode": {
    "name": "ipython",
    "version": 3
   },
   "file_extension": ".py",
   "mimetype": "text/x-python",
   "name": "python",
   "nbconvert_exporter": "python",
   "pygments_lexer": "ipython3",
   "version": "3.12.1"
  }
 },
 "nbformat": 4,
 "nbformat_minor": 2
}
