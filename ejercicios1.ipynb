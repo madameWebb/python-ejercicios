{
 "cells": [
  {
   "cell_type": "markdown",
   "metadata": {},
   "source": [
    "# Ejercicios Python"
   ]
  },
  {
   "cell_type": "markdown",
   "metadata": {},
   "source": [
    "## 1. Índice de masa corporal\n",
    "\n",
    "Escribir un programa que pida al usuario su peso (en kg) y estatura (en metros), calcule su índice de masa corporal y lo muestre con dos decimales. El índice de masa corporal se calcula como el peso dividido por el cuadrado de la estatura.\n",
    "\n",
    "Ejemplo de ejecución\n",
    "\n",
    "```none\n",
    "¿Cuál es tu peso en kg?: 72\n",
    "¿Cuál es tu estatura en metros?: 1.76\n",
    "Tu índice de masa corporal es 23\n",
    "----------------------------------------\n",
    "¿Cuál es tu peso en kg?: 85\n",
    "¿Cuál es tu estatura en metros?: 1.68\n",
    "Tu índice de masa corporal es 30\n",
    "```"
   ]
  },
  {
   "cell_type": "code",
   "execution_count": 27,
   "metadata": {},
   "outputs": [
    {
     "name": "stdout",
     "output_type": "stream",
     "text": [
      "Debes introducir un número entero o con decimales en formato 0.000\n",
      "Tu índice de masa corporal es 52\n"
     ]
    }
   ],
   "source": [
    "# TODO: Escribe aquí tu solución\n",
    "def obtenerValores(pregunta, respuestaN, mensajeError ):\n",
    "    while True:\n",
    "        try:\n",
    "            valor = float(input(pregunta))\n",
    "            if valor <= 0:\n",
    "                escribirMensajes(respuestaN)\n",
    "            else:\n",
    "                break\n",
    "        except ValueError:\n",
    "            escribirMensajes(mensajeError)\n",
    "    return valor\n",
    "\n",
    "def calcularIMC(peso, altura):\n",
    "    return peso/(pow(altura, 2))\n",
    "\n",
    "def escribirMensajes(mensaje):\n",
    "    print(mensaje)\n",
    "\n",
    "peso = obtenerValores(\"¿Cúal es tu peso en kg?: \", \"El peso debe ser un valor positivo mayor que 0.\", \"Debes introducir un número entero o con decimales en formato 0.000\")\n",
    "altura = obtenerValores(\"¿Cúal es tu altura en metros?: \", \"La altura debe ser un valor positivo.\", \"Debes introducir un número entero o con decimales en formato 0.000\")\n",
    "imc = calcularIMC(peso, altura)\n",
    "print(\"Tu índice de masa corporal es\", round(imc))\n",
    "print(\"------------------------------------------\")\n",
    "\n",
    "# TODO: Dificultad encontrada en el ejercicio (1)"
   ]
  },
  {
   "cell_type": "markdown",
   "metadata": {},
   "source": [
    "## 2. Desplazar elementos de una lista\n",
    "\n",
    "Implementar un programa en Python que:\n",
    "- Lea por teclado un número entero (n) mayor que 0.\n",
    "- Lea por teclado n números separados por espacios y los almacene en una lista.\n",
    "- Lea por teclado un número entero (d) mayor que 0.\n",
    "- Genere una nueva lista donde desplace a la derecha d posiciones (de forma circular) todos los elementos de la lista.\n",
    "\n",
    "\n",
    "Ejemplo de ejecución:\n",
    "```none\n",
    "=============================================\n",
    "Dime el numero de elementos: 8\n",
    "Dime los elementos: 4 7 1 2 5 9 11 31\n",
    "Dime el desplazamiento: 4\n",
    "La lista resultante es: 5 9 11 31 4 7 1 2\n",
    "=============================================\n",
    "```"
   ]
  },
  {
   "cell_type": "code",
   "execution_count": null,
   "metadata": {},
   "outputs": [],
   "source": [
    "def obtenerNElementos(elementos, respuestaN, mensajeError ):\n",
    "    while True:\n",
    "        try:\n",
    "            valor = int(input(elementos))\n",
    "            if valor <= 0:\n",
    "                escribirMensajes(respuestaN)\n",
    "            else:\n",
    "                break\n",
    "        except ValueError:\n",
    "            escribirMensajes(mensajeError)\n",
    "    return valor\n",
    "\n",
    "def obtenerLista(elementos, mensajeError, mensajeError2):\n",
    "    while True:\n",
    "        aux = input(\"Dime los elementos:\")\n",
    "        lista = aux.split()\n",
    "        control = comprobarControl(lista, elementos, mensajeError, mensajeError2)\n",
    "        if control:\n",
    "            break\n",
    "    return lista\n",
    "\n",
    "def comprobarControl(lista, elementos, mensajeError, mensajeError2):\n",
    "    if len(lista) == elementos:\n",
    "        for i in range(len(lista)):\n",
    "            try:\n",
    "                lista[i] = int(lista[i])\n",
    "            except ValueError:\n",
    "                escribirMensajes(mensajeError2)\n",
    "                return False\n",
    "    else:\n",
    "        escribirMensajes(mensajeError) \n",
    "        return False\n",
    "    return True\n",
    "\n",
    "def mostrarSalida(lista):\n",
    "    for n in lista:\n",
    "        print(n)\n",
    "def escribirMensajes(mensaje):\n",
    "    print(mensaje)\n",
    "\n",
    "elementos = obtenerNElementos(\"Dime el número de elementos: \", \"El número de elementos debe ser un valor positivo mayor que 0.\", \"Debes introducir un número entero.\")\n",
    "lista = obtenerLista(elementos, \"El número de elementos de la lista no corresponde con los elementos introducidos\", \"Los caracteres introducidos deben ser números separados por un espacio.\")\n",
    "desplazamiento = obtenerNElementos(\"Dime el desplazamiento: \", \"El desplazamiento debe ser un valor positivo mayor que 0.\", \"Debes introducir un número entero.\")\n",
    "\n",
    "print(\"==========================================\")\n",
    "print(\"La lista resultante es:\", \" \".join(map(str, lista[desplazamiento:]+lista[:desplazamiento])))\n",
    "#map() ejecuta una función sobre cada uno de los elementos de un iterador y devuelve un nuevo iterador cuyos elementos son el resultado de dicha operación.\n",
    "print(\"==========================================\")\n",
    "\n",
    "# TODO: Dificultad encontrada en el ejercicio (3)"
   ]
  },
  {
   "cell_type": "markdown",
   "metadata": {},
   "source": [
    "## 3. Múltiplos en una lista\n",
    "\n",
    "Función que busque en una lista los múltiplos de un número y los devuelva en una nueva lista. Tanto el número (el divisor) como la lista serán argumentos de la función. Solo se pide la función. No es necesario implementar un interfaz de usuario, pero se deberían ejecutar casos de prueba.\n",
    "\n",
    "Ejemplo:\n",
    "    Para la lista: **1 2 3 4 5 6 7 8 9 10**\n",
    "    los múltiplos de dos son **2, 4, 6, 8, 10**\n",
    "    y los de tres son **3, 6, 9**"
   ]
  },
  {
   "cell_type": "code",
   "execution_count": 7,
   "metadata": {},
   "outputs": [
    {
     "name": "stdout",
     "output_type": "stream",
     "text": [
      "[3, 6, 9]\n",
      "[5, 10]\n"
     ]
    }
   ],
   "source": [
    "def multiplos(divisor, lista):\n",
    "    auxLista = []\n",
    "    for i in range (len(lista)):\n",
    "        if lista[i] % divisor == 0:\n",
    "            auxLista.append(lista[i])\n",
    "    return auxLista\n",
    "\n",
    "# Para probar\n",
    "print(multiplos(3, [1,2,3,4,5,6,7,8,9,10])) # Debe mostrar [3, 6, 9]\n",
    "print(multiplos(5, [1,2,3,4,5,6,7,8,9,10])) # Debe mostrar [5, 10]\n",
    "\n",
    "\n",
    "# TODO: Dificultad encontrada en el ejercicio (1)"
   ]
  },
  {
   "cell_type": "markdown",
   "metadata": {},
   "source": [
    "## 4. Triángulo de números\n",
    "\n",
    "Función que reciba un número y dibuje un triángulo de números siguiendo el siguiente patrón. Solo la función y casos de prueba.\n",
    "\n",
    "Para 4:\n",
    "```none\n",
    "1\n",
    "2 2\n",
    "3 3 3\n",
    "4 4 4 4\n",
    "3 3 3\n",
    "2 2\n",
    "1\n",
    "```\n",
    "\n",
    "Para 3:\n",
    "```none\n",
    "1\n",
    "2 2\n",
    "3 3 3\n",
    "2 2\n",
    "1\n",
    "```"
   ]
  },
  {
   "cell_type": "code",
   "execution_count": 9,
   "metadata": {},
   "outputs": [
    {
     "name": "stdout",
     "output_type": "stream",
     "text": [
      "1 \n",
      "2 2 \n",
      "3 3 3 \n",
      "4 4 4 4 \n",
      "3 3 3 \n",
      "2 2 \n",
      "1 \n",
      "\n",
      "1 \n",
      "2 2 \n",
      "3 3 3 \n",
      "2 2 \n",
      "1 \n"
     ]
    }
   ],
   "source": [
    "def patron(numero):\n",
    "    for i in range(1, numero):\n",
    "        print(f\"{str(i)} \"*i)\n",
    "    for i in range(numero, 0, -1):\n",
    "        print(f\"{str(i)} \"*i)\n",
    "\n",
    "\n",
    "# Para probar\n",
    "patron(4)\n",
    "print(\"\")\n",
    "patron(3)\n",
    "\n",
    "\n",
    "# TODO: Dificultad encontrada en el ejercicio (2)"
   ]
  }
 ],
 "metadata": {
  "kernelspec": {
   "display_name": "base",
   "language": "python",
   "name": "python3"
  },
  "language_info": {
   "codemirror_mode": {
    "name": "ipython",
    "version": 3
   },
   "file_extension": ".py",
   "mimetype": "text/x-python",
   "name": "python",
   "nbconvert_exporter": "python",
   "pygments_lexer": "ipython3",
   "version": "3.12.1"
  }
 },
 "nbformat": 4,
 "nbformat_minor": 2
}
