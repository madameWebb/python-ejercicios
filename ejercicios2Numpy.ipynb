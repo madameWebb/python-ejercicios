{
 "cells": [
  {
   "cell_type": "markdown",
   "metadata": {},
   "source": [
    "# Ejercicios Python 2"
   ]
  },
  {
   "cell_type": "markdown",
   "metadata": {},
   "source": [
    "Resuelve cada ejercicio en su celda y añade las pruebas necesarias para comprobar que funciona correctamente. Indica en un comentario la dificultad encontrada (del 1 al 5)."
   ]
  },
  {
   "cell_type": "code",
   "execution_count": 3,
   "metadata": {},
   "outputs": [
    {
     "name": "stdout",
     "output_type": "stream",
     "text": [
      "[1 2 3 4 5]\n",
      "['gallina' 'gato' 'perro' 'pez']\n"
     ]
    }
   ],
   "source": [
    "# Función que recibe una lista y devuelve otra eliminando sus duplicados (función y pruebas)\n",
    "import numpy as np\n",
    "\n",
    "def eliminarDuplicados(lista):\n",
    "    return np.unique(lista)\n",
    "\n",
    "\n",
    "print(eliminarDuplicados([1,2,3,4,5,2,3,4,5,3,4,5,4,5,5]))\n",
    "print(eliminarDuplicados(['gato', 'pez', 'perro', 'pez', 'perro', 'gallina', 'perro']))"
   ]
  },
  {
   "cell_type": "code",
   "execution_count": 22,
   "metadata": {},
   "outputs": [
    {
     "name": "stdout",
     "output_type": "stream",
     "text": [
      "[[1, 2, 3], [2, 4, 5], [3, 4, 5], [3, 4, 5], [4, 5]]\n",
      "[['gato', 'perro', 'pez'], ['gallina', 'perro', 'pez'], ['gato', 'gaviota', 'perro']]\n",
      "[1 2 3 4 5]\n",
      "['gallina' 'gato' 'gaviota' 'perro' 'pez']\n"
     ]
    }
   ],
   "source": [
    "# Función que recibe una matriz (una lista de listas) y devuelve otra eliminando sus duplicados\n",
    "\n",
    "import numpy as np\n",
    "\n",
    "# Sin elementos repetidos en las filas\n",
    "def eliminarDuplicadosMatriz1(matriz):\n",
    "    aux = []\n",
    "    for fila in matriz:\n",
    "        # Elimino los duplicados de cada fila y los paso de objeto array a elemento de array(tolist)\n",
    "        aux.append((np.unique(fila)).tolist())\n",
    "    return aux\n",
    "\n",
    "# Sin elementos repetidos en toda la matriz\n",
    "def eliminarDuplicadosMatriz2(matriz):\n",
    "    return np.unique(matriz)\n",
    "\n",
    "    \n",
    "print(eliminarDuplicadosMatriz1([[1,2,3],[4,5,2],[3,4,5],[3,4,5],[4,5,5]]))\n",
    "print(eliminarDuplicadosMatriz1([['gato', 'pez', 'perro'], ['pez', 'perro', 'gallina'], ['perro', 'gaviota', 'gato']])) \n",
    "\n",
    "print(eliminarDuplicadosMatriz2([[1,2,3],[4,5,2],[3,4,5],[3,4,5],[4,5,5]]))\n",
    "print(eliminarDuplicadosMatriz2([['gato', 'pez', 'perro'], ['pez', 'perro', 'gallina'], ['perro', 'gaviota', 'gato']])) "
   ]
  },
  {
   "cell_type": "code",
   "execution_count": 2,
   "metadata": {},
   "outputs": [
    {
     "name": "stdout",
     "output_type": "stream",
     "text": [
      "{1: 1, 2: 2, 3: 3, 4: 4, 5: 5}\n",
      "{'gallina': 1, 'gato': 1, 'perro': 3, 'pez': 2}\n"
     ]
    }
   ],
   "source": [
    "# Función que recibe una lista y devuelve un diccionario con el número de veces que aparece cada elemento \n",
    "# (las claves del diccionario deben ser los elementos de la lista y los valores deben ser el número de veces que aparece \n",
    "# dicho elemento en la lista)\n",
    "\n",
    "import numpy as np\n",
    "\n",
    "def contarElementos(lista):\n",
    "    diccionario = {}\n",
    "    aux = np.array(lista)\n",
    "    elemento, indice, veces = np.unique(aux, return_index=True, return_counts=True)\n",
    "    for indice in range(len(elemento)):\n",
    "        if elemento[indice] not in diccionario:\n",
    "            diccionario.update({elemento[indice]:veces[indice]})\n",
    "    return diccionario\n",
    "\n",
    "print(contarElementos([1,2,3,4,5,2,3,4,5,3,4,5,4,5,5]))\n",
    "print(contarElementos(['gato', 'pez', 'perro', 'pez', 'perro', 'gallina', 'perro']))"
   ]
  },
  {
   "cell_type": "code",
   "execution_count": 13,
   "metadata": {},
   "outputs": [
    {
     "name": "stdout",
     "output_type": "stream",
     "text": [
      "[[1. 0. 0.]\n",
      " [0. 1. 0.]\n",
      " [0. 0. 1.]]\n"
     ]
    },
    {
     "data": {
      "text/plain": [
       "'\\nLa sentencia assert evalúa una expresión booleana. Si es True, no hace nada. Si es False, lanza una excepción de tipo AssertionError.\\nSi tu función es correcta, al ejecutar no debería mostrar nada. Si falla, mostrará un AssertionError.\\nSe utiliza para testing. \\nhttps://ellibrodepython.com/assert-python\\n'"
      ]
     },
     "execution_count": 13,
     "metadata": {},
     "output_type": "execute_result"
    }
   ],
   "source": [
    "# Función que recibe dos matrices cuadradas (NxN) y devuelve una tercera matriz que contiene el valor 1 en las posiciones en que el valor de A y B coinciden y 0 en caso contrario.\n",
    "import numpy as np\n",
    "\n",
    "def valores_iguales_matriz(matriz1, matriz2):\n",
    "    aux = np.zeros((len(matriz1), len(matriz1)))\n",
    "    aux = np.where(np.array(matriz1) == np.array(matriz2), 1, aux)\n",
    "    return aux\n",
    "\n",
    "# Tests\n",
    "matriz1 = [[1, 2, 3], [4, 5, 6], [7, 8, 9]] # Matriz 3x3\n",
    "matriz2 = [[1, 5, 6], [7, 5, 9], [1, 2, 9]] # Matriz 3x3\n",
    "print(valores_iguales_matriz(matriz1, matriz2)) # Debería mostrar una matriz identidad\n",
    "# assert valores_iguales_matriz(matriz1, matriz2) == [[1, 0, 0], [0, 1, 0], [0, 0, 1]]\n",
    "'''\n",
    "La sentencia assert evalúa una expresión booleana. Si es True, no hace nada. Si es False, lanza una excepción de tipo AssertionError.\n",
    "Si tu función es correcta, al ejecutar no debería mostrar nada. Si falla, mostrará un AssertionError.\n",
    "Se utiliza para testing. \n",
    "https://ellibrodepython.com/assert-python\n",
    "'''\n"
   ]
  },
  {
   "cell_type": "code",
   "execution_count": 14,
   "metadata": {},
   "outputs": [
    {
     "name": "stdout",
     "output_type": "stream",
     "text": [
      "[(4, 0)]\n",
      "[(0, 4)]\n",
      "[(1, 0), (1, 2), (2, 2), (3, 2), (4, 0), (4, 2)]\n",
      "[(0, 1), (0, 4), (2, 1), (2, 2), (2, 3), (2, 4)]\n"
     ]
    }
   ],
   "source": [
    "# Función que recibe una matriz y busca sus puntos de silla (mínimo de su fila y máximo de su columna o viceversa). \n",
    "# Debe devolver una lista de tuplas con las coordenadas de los puntos de silla.\n",
    "import numpy as np\n",
    "\n",
    "def hallarPSilla(matriz):\n",
    "    puntosSilla = []\n",
    "    aux = np.array(matriz)\n",
    "    for fila in range(aux.shape[0]):\n",
    "        for columna in range(aux.shape[1]):\n",
    "            if (aux[fila,columna] == np.min(aux[fila,:]) and aux[fila,columna] == np.max(aux[:,columna])) or (\n",
    "                aux[fila,columna] == np.max(aux[fila,:]) and aux[fila,columna] == np.min(aux[:,columna])):\n",
    "                puntosSilla.append((fila,columna))\n",
    "    return puntosSilla\n",
    "\n",
    "print(hallarPSilla([[1,2,3],\n",
    "                    [4,5,2],\n",
    "                    [3,4,5],\n",
    "                    [3,4,5],\n",
    "                    [4,5,5]]))\n",
    "print(hallarPSilla([[1,4,3,3,4],\n",
    "                    [2,5,4,4,5],\n",
    "                    [3,2,5,5,5]]))\n",
    "print(hallarPSilla([[1,2,6],\n",
    "                    [4,5,5],\n",
    "                    [3,4,5],\n",
    "                    [3,4,5],\n",
    "                    [4,5,5]]))\n",
    "print(hallarPSilla([[1,4,3,3,4],\n",
    "                    [2,5,4,4,5],\n",
    "                    [6,5,5,5,5]]))"
   ]
  },
  {
   "cell_type": "markdown",
   "metadata": {},
   "source": [
    "## "
   ]
  },
  {
   "cell_type": "markdown",
   "metadata": {},
   "source": [
    "## "
   ]
  }
 ],
 "metadata": {
  "kernelspec": {
   "display_name": "base",
   "language": "python",
   "name": "python3"
  },
  "language_info": {
   "codemirror_mode": {
    "name": "ipython",
    "version": 3
   },
   "file_extension": ".py",
   "mimetype": "text/x-python",
   "name": "python",
   "nbconvert_exporter": "python",
   "pygments_lexer": "ipython3",
   "version": "3.10.2"
  }
 },
 "nbformat": 4,
 "nbformat_minor": 2
}
